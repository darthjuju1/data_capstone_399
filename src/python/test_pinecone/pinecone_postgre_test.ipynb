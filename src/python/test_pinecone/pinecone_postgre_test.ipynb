{
 "cells": [
  {
   "cell_type": "code",
   "execution_count": 1,
   "metadata": {},
   "outputs": [
    {
     "name": "stdout",
     "output_type": "stream",
     "text": [
      "Collecting pinecone[grpc]\n",
      "  Downloading pinecone-6.0.2-py3-none-any.whl.metadata (9.0 kB)\n",
      "Requirement already satisfied: certifi>=2019.11.17 in c:\\users\\jnaid\\anaconda3\\lib\\site-packages (from pinecone[grpc]) (2024.8.30)\n",
      "Collecting googleapis-common-protos>=1.66.0 (from pinecone[grpc])\n",
      "  Downloading googleapis_common_protos-1.69.2-py3-none-any.whl.metadata (9.3 kB)\n",
      "Collecting grpcio>=1.59.0 (from pinecone[grpc])\n",
      "  Downloading grpcio-1.71.0-cp311-cp311-win_amd64.whl.metadata (4.0 kB)\n",
      "Requirement already satisfied: lz4>=3.1.3 in c:\\users\\jnaid\\anaconda3\\lib\\site-packages (from pinecone[grpc]) (4.3.2)\n",
      "Collecting pinecone-plugin-interface<0.0.8,>=0.0.7 (from pinecone[grpc])\n",
      "  Downloading pinecone_plugin_interface-0.0.7-py3-none-any.whl.metadata (1.2 kB)\n",
      "Collecting protobuf<6.0,>=5.29 (from pinecone[grpc])\n",
      "  Downloading protobuf-5.29.4-cp310-abi3-win_amd64.whl.metadata (592 bytes)\n",
      "Collecting protoc-gen-openapiv2<0.0.2,>=0.0.1 (from pinecone[grpc])\n",
      "  Downloading protoc_gen_openapiv2-0.0.1-py3-none-any.whl.metadata (1.5 kB)\n",
      "Requirement already satisfied: python-dateutil>=2.5.3 in c:\\users\\jnaid\\anaconda3\\lib\\site-packages (from pinecone[grpc]) (2.8.2)\n",
      "Requirement already satisfied: typing-extensions>=3.7.4 in c:\\users\\jnaid\\anaconda3\\lib\\site-packages (from pinecone[grpc]) (4.12.2)\n",
      "Requirement already satisfied: urllib3>=1.26.0 in c:\\users\\jnaid\\anaconda3\\lib\\site-packages (from pinecone[grpc]) (2.0.7)\n",
      "Requirement already satisfied: six>=1.5 in c:\\users\\jnaid\\anaconda3\\lib\\site-packages (from python-dateutil>=2.5.3->pinecone[grpc]) (1.16.0)\n",
      "Downloading googleapis_common_protos-1.69.2-py3-none-any.whl (293 kB)\n",
      "   ---------------------------------------- 0.0/293.2 kB ? eta -:--:--\n",
      "   - -------------------------------------- 10.2/293.2 kB ? eta -:--:--\n",
      "   ---------------- ----------------------- 122.9/293.2 kB 1.8 MB/s eta 0:00:01\n",
      "   ---------------------------------------- 293.2/293.2 kB 2.6 MB/s eta 0:00:00\n",
      "Downloading grpcio-1.71.0-cp311-cp311-win_amd64.whl (4.3 MB)\n",
      "   ---------------------------------------- 0.0/4.3 MB ? eta -:--:--\n",
      "   --- ------------------------------------ 0.4/4.3 MB 8.3 MB/s eta 0:00:01\n",
      "   ------- -------------------------------- 0.8/4.3 MB 8.4 MB/s eta 0:00:01\n",
      "   ----------- ---------------------------- 1.3/4.3 MB 8.9 MB/s eta 0:00:01\n",
      "   ----------------- ---------------------- 1.8/4.3 MB 9.7 MB/s eta 0:00:01\n",
      "   ----------------------- ---------------- 2.5/4.3 MB 10.5 MB/s eta 0:00:01\n",
      "   ------------------------------ --------- 3.2/4.3 MB 11.5 MB/s eta 0:00:01\n",
      "   ------------------------------------- -- 4.1/4.3 MB 12.3 MB/s eta 0:00:01\n",
      "   ---------------------------------------- 4.3/4.3 MB 11.9 MB/s eta 0:00:00\n",
      "Downloading pinecone_plugin_interface-0.0.7-py3-none-any.whl (6.2 kB)\n",
      "Downloading protobuf-5.29.4-cp310-abi3-win_amd64.whl (434 kB)\n",
      "   ---------------------------------------- 0.0/434.5 kB ? eta -:--:--\n",
      "   ---------------------------------------- 434.5/434.5 kB 9.0 MB/s eta 0:00:00\n",
      "Downloading protoc_gen_openapiv2-0.0.1-py3-none-any.whl (7.9 kB)\n",
      "Downloading pinecone-6.0.2-py3-none-any.whl (421 kB)\n",
      "   ---------------------------------------- 0.0/421.9 kB ? eta -:--:--\n",
      "   --------------------------------------- 421.9/421.9 kB 25.7 MB/s eta 0:00:00\n",
      "Installing collected packages: protobuf, pinecone-plugin-interface, grpcio, pinecone, googleapis-common-protos, protoc-gen-openapiv2\n",
      "  Attempting uninstall: protobuf\n",
      "    Found existing installation: protobuf 3.20.3\n",
      "    Uninstalling protobuf-3.20.3:\n",
      "      Successfully uninstalled protobuf-3.20.3\n",
      "Successfully installed googleapis-common-protos-1.69.2 grpcio-1.71.0 pinecone-6.0.2 pinecone-plugin-interface-0.0.7 protobuf-5.29.4 protoc-gen-openapiv2-0.0.1\n",
      "Note: you may need to restart the kernel to use updated packages.\n"
     ]
    },
    {
     "name": "stderr",
     "output_type": "stream",
     "text": [
      "ERROR: pip's dependency resolver does not currently take into account all the packages that are installed. This behaviour is the source of the following dependency conflicts.\n",
      "streamlit 1.30.0 requires protobuf<5,>=3.20, but you have protobuf 5.29.4 which is incompatible.\n"
     ]
    }
   ],
   "source": [
    "pip install \"pinecone[grpc]\"\n"
   ]
  },
  {
   "cell_type": "code",
   "execution_count": 2,
   "metadata": {},
   "outputs": [
    {
     "data": {
      "text/plain": [
       "{\n",
       "    \"name\": \"dense-index\",\n",
       "    \"metric\": \"cosine\",\n",
       "    \"host\": \"dense-index-9l7icfb.svc.aped-4627-b74a.pinecone.io\",\n",
       "    \"spec\": {\n",
       "        \"serverless\": {\n",
       "            \"cloud\": \"aws\",\n",
       "            \"region\": \"us-east-1\"\n",
       "        }\n",
       "    },\n",
       "    \"status\": {\n",
       "        \"ready\": true,\n",
       "        \"state\": \"Ready\"\n",
       "    },\n",
       "    \"vector_type\": \"dense\",\n",
       "    \"dimension\": 1024,\n",
       "    \"deletion_protection\": \"disabled\",\n",
       "    \"tags\": null,\n",
       "    \"embed\": {\n",
       "        \"model\": \"llama-text-embed-v2\",\n",
       "        \"field_map\": {\n",
       "            \"text\": \"chunk_text\"\n",
       "        },\n",
       "        \"dimension\": 1024,\n",
       "        \"metric\": \"cosine\",\n",
       "        \"write_parameters\": {\n",
       "            \"dimension\": 1024.0,\n",
       "            \"input_type\": \"passage\",\n",
       "            \"truncate\": \"END\"\n",
       "        },\n",
       "        \"read_parameters\": {\n",
       "            \"dimension\": 1024.0,\n",
       "            \"input_type\": \"query\",\n",
       "            \"truncate\": \"END\"\n",
       "        },\n",
       "        \"vector_type\": \"dense\"\n",
       "    }\n",
       "}"
      ]
     },
     "execution_count": 2,
     "metadata": {},
     "output_type": "execute_result"
    }
   ],
   "source": [
    "# Import the Pinecone library\n",
    "from pinecone import Pinecone\n",
    "\n",
    "# Initialize a Pinecone client with your API key\n",
    "pc = Pinecone(api_key=\"pcsk_5bVfwr_FVWYHKchi2cYZCopXyb9JQreVW1hUfm97xcuAnamBkQtN31FXeGGpnfTZWnV1N8\") # \"YOUR_API_KEY\"\n",
    "\n",
    "# Create a dense index with integrated embedding\n",
    "index_name = \"dense-index\"\n",
    "if not pc.has_index(index_name):\n",
    "    pc.create_index_for_model(\n",
    "        name=index_name,\n",
    "        cloud=\"aws\",\n",
    "        region=\"us-east-1\",\n",
    "        embed={\n",
    "            \"model\":\"llama-text-embed-v2\",\n",
    "            \"field_map\":{\"text\": \"chunk_text\"}\n",
    "        }\n",
    "    )\n",
    "\n",
    "pc.describe_index(name=\"dense-index\")"
   ]
  },
  {
   "cell_type": "code",
   "execution_count": 3,
   "metadata": {},
   "outputs": [],
   "source": [
    "records = [\n",
    "    { \"_id\": \"rec1\", \"chunk_text\": \"The Eiffel Tower was completed in 1889 and stands in Paris, France.\", \"category\": \"history\" },\n",
    "    { \"_id\": \"rec2\", \"chunk_text\": \"Photosynthesis allows plants to convert sunlight into energy.\", \"category\": \"science\" },\n",
    "    { \"_id\": \"rec3\", \"chunk_text\": \"Albert Einstein developed the theory of relativity.\", \"category\": \"science\" },\n",
    "    { \"_id\": \"rec4\", \"chunk_text\": \"The mitochondrion is often called the powerhouse of the cell.\", \"category\": \"biology\" },\n",
    "    { \"_id\": \"rec5\", \"chunk_text\": \"Shakespeare wrote many famous plays, including Hamlet and Macbeth.\", \"category\": \"literature\" },\n",
    "    { \"_id\": \"rec6\", \"chunk_text\": \"Water boils at 100°C under standard atmospheric pressure.\", \"category\": \"physics\" },\n",
    "    { \"_id\": \"rec7\", \"chunk_text\": \"The Great Wall of China was built to protect against invasions.\", \"category\": \"history\" },\n",
    "    { \"_id\": \"rec8\", \"chunk_text\": \"Honey never spoils due to its low moisture content and acidity.\", \"category\": \"food science\" },\n",
    "    { \"_id\": \"rec9\", \"chunk_text\": \"The speed of light in a vacuum is approximately 299,792 km/s.\", \"category\": \"physics\" },\n",
    "    { \"_id\": \"rec10\", \"chunk_text\": \"Newton’s laws describe the motion of objects.\", \"category\": \"physics\" },\n",
    "    { \"_id\": \"rec11\", \"chunk_text\": \"The human brain has approximately 86 billion neurons.\", \"category\": \"biology\" },\n",
    "    { \"_id\": \"rec12\", \"chunk_text\": \"The Amazon Rainforest is one of the most biodiverse places on Earth.\", \"category\": \"geography\" },\n",
    "    { \"_id\": \"rec13\", \"chunk_text\": \"Black holes have gravitational fields so strong that not even light can escape.\", \"category\": \"astronomy\" },\n",
    "    { \"_id\": \"rec14\", \"chunk_text\": \"The periodic table organizes elements based on their atomic number.\", \"category\": \"chemistry\" },\n",
    "    { \"_id\": \"rec15\", \"chunk_text\": \"Leonardo da Vinci painted the Mona Lisa.\", \"category\": \"art\" },\n",
    "    { \"_id\": \"rec16\", \"chunk_text\": \"The internet revolutionized communication and information sharing.\", \"category\": \"technology\" },\n",
    "    { \"_id\": \"rec17\", \"chunk_text\": \"The Pyramids of Giza are among the Seven Wonders of the Ancient World.\", \"category\": \"history\" },\n",
    "    { \"_id\": \"rec18\", \"chunk_text\": \"Dogs have an incredible sense of smell, much stronger than humans.\", \"category\": \"biology\" },\n",
    "    { \"_id\": \"rec19\", \"chunk_text\": \"The Pacific Ocean is the largest and deepest ocean on Earth.\", \"category\": \"geography\" },\n",
    "    { \"_id\": \"rec20\", \"chunk_text\": \"Chess is a strategic game that originated in India.\", \"category\": \"games\" },\n",
    "    { \"_id\": \"rec21\", \"chunk_text\": \"The Statue of Liberty was a gift from France to the United States.\", \"category\": \"history\" },\n",
    "    { \"_id\": \"rec22\", \"chunk_text\": \"Coffee contains caffeine, a natural stimulant.\", \"category\": \"food science\" },\n",
    "    { \"_id\": \"rec23\", \"chunk_text\": \"Thomas Edison invented the practical electric light bulb.\", \"category\": \"inventions\" },\n",
    "    { \"_id\": \"rec24\", \"chunk_text\": \"The moon influences ocean tides due to gravitational pull.\", \"category\": \"astronomy\" },\n",
    "    { \"_id\": \"rec25\", \"chunk_text\": \"DNA carries genetic information for all living organisms.\", \"category\": \"biology\" },\n",
    "    { \"_id\": \"rec26\", \"chunk_text\": \"Rome was once the center of a vast empire.\", \"category\": \"history\" },\n",
    "    { \"_id\": \"rec27\", \"chunk_text\": \"The Wright brothers pioneered human flight in 1903.\", \"category\": \"inventions\" },\n",
    "    { \"_id\": \"rec28\", \"chunk_text\": \"Bananas are a good source of potassium.\", \"category\": \"nutrition\" },\n",
    "    { \"_id\": \"rec29\", \"chunk_text\": \"The stock market fluctuates based on supply and demand.\", \"category\": \"economics\" },\n",
    "    { \"_id\": \"rec30\", \"chunk_text\": \"A compass needle points toward the magnetic north pole.\", \"category\": \"navigation\" },\n",
    "    { \"_id\": \"rec31\", \"chunk_text\": \"The universe is expanding, according to the Big Bang theory.\", \"category\": \"astronomy\" },\n",
    "    { \"_id\": \"rec32\", \"chunk_text\": \"Elephants have excellent memory and strong social bonds.\", \"category\": \"biology\" },\n",
    "    { \"_id\": \"rec33\", \"chunk_text\": \"The violin is a string instrument commonly used in orchestras.\", \"category\": \"music\" },\n",
    "    { \"_id\": \"rec34\", \"chunk_text\": \"The heart pumps blood throughout the human body.\", \"category\": \"biology\" },\n",
    "    { \"_id\": \"rec35\", \"chunk_text\": \"Ice cream melts when exposed to heat.\", \"category\": \"food science\" },\n",
    "    { \"_id\": \"rec36\", \"chunk_text\": \"Solar panels convert sunlight into electricity.\", \"category\": \"technology\" },\n",
    "    { \"_id\": \"rec37\", \"chunk_text\": \"The French Revolution began in 1789.\", \"category\": \"history\" },\n",
    "    { \"_id\": \"rec38\", \"chunk_text\": \"The Taj Mahal is a mausoleum built by Emperor Shah Jahan.\", \"category\": \"history\" },\n",
    "    { \"_id\": \"rec39\", \"chunk_text\": \"Rainbows are caused by light refracting through water droplets.\", \"category\": \"physics\" },\n",
    "    { \"_id\": \"rec40\", \"chunk_text\": \"Mount Everest is the tallest mountain in the world.\", \"category\": \"geography\" },\n",
    "    { \"_id\": \"rec41\", \"chunk_text\": \"Octopuses are highly intelligent marine creatures.\", \"category\": \"biology\" },\n",
    "    { \"_id\": \"rec42\", \"chunk_text\": \"The speed of sound is around 343 meters per second in air.\", \"category\": \"physics\" },\n",
    "    { \"_id\": \"rec43\", \"chunk_text\": \"Gravity keeps planets in orbit around the sun.\", \"category\": \"astronomy\" },\n",
    "    { \"_id\": \"rec44\", \"chunk_text\": \"The Mediterranean diet is considered one of the healthiest in the world.\", \"category\": \"nutrition\" },\n",
    "    { \"_id\": \"rec45\", \"chunk_text\": \"A haiku is a traditional Japanese poem with a 5-7-5 syllable structure.\", \"category\": \"literature\" },\n",
    "    { \"_id\": \"rec46\", \"chunk_text\": \"The human body is made up of about 60% water.\", \"category\": \"biology\" },\n",
    "    { \"_id\": \"rec47\", \"chunk_text\": \"The Industrial Revolution transformed manufacturing and transportation.\", \"category\": \"history\" },\n",
    "    { \"_id\": \"rec48\", \"chunk_text\": \"Vincent van Gogh painted Starry Night.\", \"category\": \"art\" },\n",
    "    { \"_id\": \"rec49\", \"chunk_text\": \"Airplanes fly due to the principles of lift and aerodynamics.\", \"category\": \"physics\" },\n",
    "    { \"_id\": \"rec50\", \"chunk_text\": \"Renewable energy sources include wind, solar, and hydroelectric power.\", \"category\": \"energy\" }\n",
    "]\n"
   ]
  },
  {
   "cell_type": "code",
   "execution_count": 4,
   "metadata": {},
   "outputs": [],
   "source": [
    "# Target the index\n",
    "# In production, target an index by its unique DNS host, not by its name\n",
    "# See https://docs.pinecone.io/guides/data/target-an-index\n",
    "dense_index = pc.Index(index_name)\n",
    "\n",
    "# Upsert the records into a namespace\n",
    "dense_index.upsert_records(\"example-namespace\", records)\n"
   ]
  },
  {
   "cell_type": "code",
   "execution_count": 5,
   "metadata": {},
   "outputs": [
    {
     "name": "stdout",
     "output_type": "stream",
     "text": [
      "{'dimension': 1024,\n",
      " 'index_fullness': 0.0,\n",
      " 'metric': 'cosine',\n",
      " 'namespaces': {'example-namespace': {'vector_count': 50}},\n",
      " 'total_vector_count': 50,\n",
      " 'vector_type': 'dense'}\n"
     ]
    }
   ],
   "source": [
    "# Wait for the upserted vectors to be indexed\n",
    "import time\n",
    "time.sleep(10)\n",
    "\n",
    "# View stats for the index\n",
    "stats = dense_index.describe_index_stats()\n",
    "print(stats)\n"
   ]
  },
  {
   "cell_type": "code",
   "execution_count": 6,
   "metadata": {},
   "outputs": [
    {
     "name": "stdout",
     "output_type": "stream",
     "text": [
      "id: rec17, score: 0.24, text: The Pyramids of Giza are among the Seven Wonders of the Ancient World., category: history\n",
      "id: rec38, score: 0.19, text: The Taj Mahal is a mausoleum built by Emperor Shah Jahan., category: history\n",
      "id: rec5, score: 0.19, text: Shakespeare wrote many famous plays, including Hamlet and Macbeth., category: literature\n",
      "id: rec15, score: 0.11, text: Leonardo da Vinci painted the Mona Lisa., category: art\n",
      "id: rec50, score: 0.1, text: Renewable energy sources include wind, solar, and hydroelectric power., category: energy\n",
      "id: rec26, score: 0.09, text: Rome was once the center of a vast empire., category: history\n",
      "id: rec47, score: 0.08, text: The Industrial Revolution transformed manufacturing and transportation., category: history\n",
      "id: rec1, score: 0.07, text: The Eiffel Tower was completed in 1889 and stands in Paris, France., category: history\n",
      "id: rec7, score: 0.07, text: The Great Wall of China was built to protect against invasions., category: history\n",
      "id: rec3, score: 0.07, text: Albert Einstein developed the theory of relativity., category: science\n"
     ]
    }
   ],
   "source": [
    "# Define the query\n",
    "query = \"Famous historical structures and monuments\"\n",
    "\n",
    "# Search the dense index\n",
    "results = dense_index.search(\n",
    "    namespace=\"example-namespace\",\n",
    "    query={\n",
    "        \"top_k\": 10,\n",
    "        \"inputs\": {\n",
    "            'text': query\n",
    "        }\n",
    "    }\n",
    ")\n",
    "\n",
    "# Print the results\n",
    "for hit in results['result']['hits']:\n",
    "    print(f\"id: {hit['_id']}, score: {round(hit['_score'], 2)}, text: {hit['fields']['chunk_text']}, category: {hit['fields']['category']}\")\n"
   ]
  },
  {
   "cell_type": "code",
   "execution_count": 7,
   "metadata": {},
   "outputs": [
    {
     "name": "stdout",
     "output_type": "stream",
     "text": [
      "id: rec1, score: 0.11, text: The Eiffel Tower was completed in 1889 and stands in Paris, France., category: history\n",
      "id: rec38, score: 0.06, text: The Taj Mahal is a mausoleum built by Emperor Shah Jahan., category: history\n",
      "id: rec7, score: 0.06, text: The Great Wall of China was built to protect against invasions., category: history\n",
      "id: rec17, score: 0.02, text: The Pyramids of Giza are among the Seven Wonders of the Ancient World., category: history\n",
      "id: rec26, score: 0.01, text: Rome was once the center of a vast empire., category: history\n",
      "id: rec15, score: 0.01, text: Leonardo da Vinci painted the Mona Lisa., category: art\n",
      "id: rec5, score: 0.0, text: Shakespeare wrote many famous plays, including Hamlet and Macbeth., category: literature\n",
      "id: rec47, score: 0.0, text: The Industrial Revolution transformed manufacturing and transportation., category: history\n",
      "id: rec50, score: 0.0, text: Renewable energy sources include wind, solar, and hydroelectric power., category: energy\n",
      "id: rec3, score: 0.0, text: Albert Einstein developed the theory of relativity., category: science\n",
      "id: rec1, score: 0.11, text: The Eiffel Tower was completed in 1889 and stands in Paris, France., category: history\n",
      "id: rec38, score: 0.06, text: The Taj Mahal is a mausoleum built by Emperor Shah Jahan., category: history\n",
      "id: rec7, score: 0.06, text: The Great Wall of China was built to protect against invasions., category: history\n",
      "id: rec17, score: 0.02, text: The Pyramids of Giza are among the Seven Wonders of the Ancient World., category: history\n",
      "id: rec26, score: 0.01, text: Rome was once the center of a vast empire., category: history\n",
      "id: rec15, score: 0.01, text: Leonardo da Vinci painted the Mona Lisa., category: art\n",
      "id: rec5, score: 0.0, text: Shakespeare wrote many famous plays, including Hamlet and Macbeth., category: literature\n",
      "id: rec47, score: 0.0, text: The Industrial Revolution transformed manufacturing and transportation., category: history\n",
      "id: rec50, score: 0.0, text: Renewable energy sources include wind, solar, and hydroelectric power., category: energy\n",
      "id: rec3, score: 0.0, text: Albert Einstein developed the theory of relativity., category: science\n"
     ]
    }
   ],
   "source": [
    "# Search the dense index and rerank results\n",
    "reranked_results = dense_index.search(\n",
    "    namespace=\"example-namespace\",\n",
    "    query={\n",
    "        \"top_k\": 10,\n",
    "        \"inputs\": {\n",
    "            'text': query\n",
    "        }\n",
    "    },\n",
    "    rerank={\n",
    "        \"model\": \"bge-reranker-v2-m3\",\n",
    "        \"top_n\": 10,\n",
    "        \"rank_fields\": [\"chunk_text\"]\n",
    "    }   \n",
    ")\n",
    "\n",
    "# Print the reranked results\n",
    "for hit in reranked_results['result']['hits']:\n",
    "    print(f\"id: {hit['_id']}, score: {round(hit['_score'], 2)}, text: {hit['fields']['chunk_text']}, category: {hit['fields']['category']}\")\n",
    "# Search the dense index and rerank results\n",
    "reranked_results = dense_index.search(\n",
    "    namespace=\"example-namespace\",\n",
    "    query={\n",
    "        \"top_k\": 10,\n",
    "        \"inputs\": {\n",
    "            'text': query\n",
    "        }\n",
    "    },\n",
    "    rerank={\n",
    "        \"model\": \"bge-reranker-v2-m3\",\n",
    "        \"top_n\": 10,\n",
    "        \"rank_fields\": [\"chunk_text\"]\n",
    "    }   \n",
    ")\n",
    "\n",
    "# Print the reranked results\n",
    "for hit in reranked_results['result']['hits']:\n",
    "    print(f\"id: {hit['_id']}, score: {round(hit['_score'], 2)}, text: {hit['fields']['chunk_text']}, category: {hit['fields']['category']}\")\n"
   ]
  },
  {
   "cell_type": "code",
   "execution_count": null,
   "metadata": {},
   "outputs": [],
   "source": []
  }
 ],
 "metadata": {
  "kernelspec": {
   "display_name": "Python (lyrics-env)",
   "language": "python",
   "name": "lyrics-env"
  },
  "language_info": {
   "codemirror_mode": {
    "name": "ipython",
    "version": 3
   },
   "file_extension": ".py",
   "mimetype": "text/x-python",
   "name": "python",
   "nbconvert_exporter": "python",
   "pygments_lexer": "ipython3",
   "version": "3.10.11"
  }
 },
 "nbformat": 4,
 "nbformat_minor": 2
}
